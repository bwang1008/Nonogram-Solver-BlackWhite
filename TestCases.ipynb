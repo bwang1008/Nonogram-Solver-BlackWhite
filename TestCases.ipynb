{
 "cells": [
  {
   "cell_type": "code",
   "execution_count": 4,
   "metadata": {},
   "outputs": [],
   "source": [
    "# Input Test Cases!\n",
    "#Possible input in input.txt:"
   ]
  },
  {
   "cell_type": "code",
   "execution_count": 3,
   "metadata": {
    "code_folding": [
     0
    ]
   },
   "outputs": [
    {
     "data": {
      "text/plain": [
       "'\\n5 5\\n5\\n1\\n5\\n1\\n5\\n3 1\\n1 1 1\\n1 1 1\\n1 1 1\\n1 3\\n'"
      ]
     },
     "execution_count": 3,
     "metadata": {},
     "output_type": "execute_result"
    }
   ],
   "source": [
    "# 5x5 Completed\n",
    "'''\n",
    "5 5\n",
    "5\n",
    "1\n",
    "5\n",
    "1\n",
    "5\n",
    "3 1\n",
    "1 1 1\n",
    "1 1 1\n",
    "1 1 1\n",
    "1 3\n",
    "'''"
   ]
  },
  {
   "cell_type": "code",
   "execution_count": null,
   "metadata": {
    "code_folding": [
     0
    ]
   },
   "outputs": [],
   "source": [
    "# 5x5 Completed\n",
    "'''\n",
    "5 5\n",
    "3\n",
    "2 2\n",
    "1 1\n",
    "2 2\n",
    "3\n",
    "3\n",
    "2 2\n",
    "1 1\n",
    "2 2\n",
    "3\n",
    "'''"
   ]
  },
  {
   "cell_type": "code",
   "execution_count": null,
   "metadata": {
    "code_folding": [
     0
    ]
   },
   "outputs": [],
   "source": [
    "# 5x5 Completed\n",
    "'''\n",
    "5 5\n",
    "5\n",
    "1 1 1\n",
    "5\n",
    "1\n",
    "1\n",
    "5\n",
    "1 1\n",
    "3\n",
    "1 1\n",
    "3\n",
    "'''"
   ]
  },
  {
   "cell_type": "code",
   "execution_count": null,
   "metadata": {
    "code_folding": [
     0
    ]
   },
   "outputs": [],
   "source": [
    "# 5x5 Completed\n",
    "'''\n",
    "5 5\n",
    "5\n",
    "1\n",
    "1\n",
    "1\n",
    "5\n",
    "1 1\n",
    "1 2\n",
    "1 1 1\n",
    "2 1\n",
    "1 1\n",
    "'''"
   ]
  },
  {
   "cell_type": "code",
   "execution_count": null,
   "metadata": {
    "code_folding": [
     0
    ]
   },
   "outputs": [],
   "source": [
    "# 15x15 Completed\n",
    "'''\n",
    "Swan\n",
    "15 15\n",
    "10 2\n",
    "9 1\n",
    "9 4\n",
    "9 5\n",
    "2 5 4\n",
    "1 1 2 4\n",
    "2 2 2 3\n",
    "2 1 2 2 2\n",
    "3 2 1 2 1\n",
    "3 2 1 1 1\n",
    "3 2 1 1 1\n",
    "2 2 1 1 1\n",
    "1 1 1\n",
    "2 2\n",
    "15\n",
    "4 6 3\n",
    "5 6 2\n",
    "5 4 1\n",
    "4 1 1 1\n",
    "4 1 1 1 1\n",
    "5 1 1 1 1\n",
    "5 1 1 1 1\n",
    "5 1 1 1 1\n",
    "6 1 1 1\n",
    "1 4 1 1 1\n",
    "1 3 1\n",
    "4 1 1\n",
    "5 4 1\n",
    "1 6 2\n",
    "15\n",
    "'''"
   ]
  },
  {
   "cell_type": "code",
   "execution_count": null,
   "metadata": {
    "code_folding": [
     0
    ]
   },
   "outputs": [],
   "source": [
    "# 15x15 Completed\n",
    "'''\n",
    "Spade\n",
    "15 15\n",
    "1\n",
    "3\n",
    "5\n",
    "7\n",
    "9\n",
    "11\n",
    "13\n",
    "13\n",
    "15\n",
    "15\n",
    "15\n",
    "6 1 6\n",
    "4 1 4\n",
    "3\n",
    "5\n",
    "4\n",
    "7\n",
    "8\n",
    "9\n",
    "10\n",
    "10 1\n",
    "10 2\n",
    "15\n",
    "10 2\n",
    "10 1\n",
    "10\n",
    "9\n",
    "8\n",
    "7\n",
    "4\n",
    "'''"
   ]
  },
  {
   "cell_type": "code",
   "execution_count": null,
   "metadata": {
    "code_folding": [
     0
    ]
   },
   "outputs": [],
   "source": [
    "# 15x15 Incomplete\n",
    "'''\n",
    "Mouse\n",
    "15 15\n",
    "3\n",
    "4 2 1\n",
    "3 1 1 1\n",
    "3 1 2 1\n",
    "2 1 2\n",
    "4 2 2\n",
    "2 2 2\n",
    "1 3 1\n",
    "2 2 1\n",
    "4 3\n",
    "1 1 2 2\n",
    "1 1 1\n",
    "1 1 1\n",
    "5 2\n",
    "3 2 3\n",
    "2\n",
    "3\n",
    "1 1\n",
    "1 1 2 1\n",
    "2 2 1 1\n",
    "2 6 2\n",
    "1 2 2\n",
    "1 3 2\n",
    "3 2 5\n",
    "2 1 1\n",
    "1 1\n",
    "4 2 1\n",
    "2 2 2 2\n",
    "1 1 2 5\n",
    "2 5\n",
    "'''"
   ]
  },
  {
   "cell_type": "code",
   "execution_count": null,
   "metadata": {
    "code_folding": [
     0
    ]
   },
   "outputs": [],
   "source": [
    "# 40x50, Completed\n",
    "'''\n",
    "Troll Face\n",
    "40 50\n",
    "23\n",
    "19 6\n",
    "8 3\n",
    "3 2\n",
    "3 7 9 2\n",
    "3 2 4 2 2\n",
    "2 2\n",
    "1 1\n",
    "1 6 2\n",
    "2 4 10 2\n",
    "2 7 2 8 1 3\n",
    "2 2 10 2 10 1 3\n",
    "5 4 4 2 6 2\n",
    "2 4 1 2 4 3 2\n",
    "2 8 2 6 1 2 2\n",
    "2 1 4 2 3 2 1\n",
    "2 1 2 4 7 2 1\n",
    "2 3 4 1 2 4 6 2\n",
    "4 3 5 4 1 5 2 1 2\n",
    "1 4 4 2 8 3 3\n",
    "2 6 2 5 7 3\n",
    "2 23 7 3\n",
    "1 5 12 2 6 2 2\n",
    "1 4 2 2 1 9 2 2\n",
    "1 26 4 1\n",
    "1 24 2 2\n",
    "1 20 2 3 1\n",
    "1 17 2 3 2\n",
    "2 5 2 1 1 4 2\n",
    "2 5 2 2 1 5 1 2\n",
    "2 22 2 2 3\n",
    "2 16 4 3\n",
    "2 4 4\n",
    "2 1 5 4\n",
    "2 2 5 4\n",
    "2 4 4\n",
    "2 4\n",
    "2 6\n",
    "2 8\n",
    "16\n",
    "5\n",
    "8\n",
    "3 5 9\n",
    "2 1 1 18\n",
    "5 2 1 2\n",
    "3 1 2 1 2\n",
    "2 2 11 1 1\n",
    "2 17 1 1\n",
    "2 2 14 2 1\n",
    "2 2 12 1 1\n",
    "1 2 2 2 7 1 1\n",
    "2 3 2 12 1 1\n",
    "2 3 2 1 7 2 1\n",
    "2 3 2 2 8 1\n",
    "2 3 2 2 8 1\n",
    "2 2 3 2 4 2 1\n",
    "2 1 3 5 7 2 1\n",
    "2 2 5 13 1\n",
    "2 1 2 1 4 4 3 2\n",
    "2 1 2 1 2 4 2 2\n",
    "2 1 2 4 2 2\n",
    "2 1 1 7 2 1\n",
    "2 1 1 2 8 1 2 \n",
    "2 2 1 2 1 3 2 1 2\n",
    "2 1 3 1 1 1 3 2 1 2\n",
    "2 1 2 1 1 3 3 2 2 2 \n",
    "2 2 1 2 6 2 2 2 2\n",
    "2 1 2 2 2 6 2 1 2\n",
    "2 1 4 9 2 2 2\n",
    "2 1 4 2 8 2 2\n",
    "1 1 5 1 3 2 2 2\n",
    "1 1 6 2 3 2 2 2\n",
    "1 1 4 2 2 2 2 2 2\n",
    "1 1 3 1 2 3 2 2 2\n",
    "2 2 3 1 8 2 2\n",
    "2 1 2 1 10 1 2\n",
    "2 2 2 2 2 3\n",
    "2 2 2 2 5 1 2\n",
    "2 2 1 5 2\n",
    "2 2 2 3 1\n",
    "2 1 7 2\n",
    "3 1 4 2\n",
    "3 2 2 2\n",
    "4 2 1 3\n",
    "3 6 3\n",
    "3 4 3\n",
    "2 4\n",
    "2 3\n",
    "3 4\n",
    "6\n",
    "'''"
   ]
  }
 ],
 "metadata": {
  "kernelspec": {
   "display_name": "Python 3",
   "language": "python",
   "name": "python3"
  },
  "language_info": {
   "codemirror_mode": {
    "name": "ipython",
    "version": 3
   },
   "file_extension": ".py",
   "mimetype": "text/x-python",
   "name": "python",
   "nbconvert_exporter": "python",
   "pygments_lexer": "ipython3",
   "version": "3.7.3"
  }
 },
 "nbformat": 4,
 "nbformat_minor": 2
}
